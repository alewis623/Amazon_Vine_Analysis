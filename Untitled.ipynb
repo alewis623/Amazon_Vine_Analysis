{
 "cells": [
  {
   "cell_type": "code",
   "execution_count": 1,
   "id": "e38ddda1",
   "metadata": {},
   "outputs": [
    {
     "name": "stdout",
     "output_type": "stream",
     "text": [
      "[('I', 'PRP'), ('enjoy', 'VBP'), ('biking', 'VBG'), ('on', 'IN'), ('the', 'DT'), ('trails', 'NNS')]\n"
     ]
    }
   ],
   "source": [
    "import nltk\n",
    "from nltk import word_tokenize\n",
    "text = word_tokenize(\"I enjoy biking on the trails\")\n",
    "output = nltk.pos_tag(text)\n",
    "print(output)"
   ]
  },
  {
   "cell_type": "code",
   "execution_count": 2,
   "id": "418ba87f",
   "metadata": {},
   "outputs": [
    {
     "name": "stdout",
     "output_type": "stream",
     "text": [
      "[('Wow', 'NNP'), (',', ','), ('big', 'JJ'), ('data', 'NNS'), ('module', 'NN'), ('is', 'VBZ'), ('really', 'RB'), ('hard', 'JJ'), ('to', 'TO'), ('go', 'VB'), ('through', 'IN'), ('with', 'IN'), ('Covid', 'NNP')]\n"
     ]
    }
   ],
   "source": [
    "from nltk import word_tokenize\n",
    "text = word_tokenize(\"Wow, big data module is really hard to go through with Covid\")\n",
    "output = nltk.pos_tag(text)\n",
    "print(output)"
   ]
  },
  {
   "cell_type": "code",
   "execution_count": null,
   "id": "3cc19cda",
   "metadata": {},
   "outputs": [],
   "source": []
  }
 ],
 "metadata": {
  "kernelspec": {
   "display_name": "PythonData",
   "language": "python",
   "name": "pythondata"
  },
  "language_info": {
   "codemirror_mode": {
    "name": "ipython",
    "version": 3
   },
   "file_extension": ".py",
   "mimetype": "text/x-python",
   "name": "python",
   "nbconvert_exporter": "python",
   "pygments_lexer": "ipython3",
   "version": "3.7.10"
  }
 },
 "nbformat": 4,
 "nbformat_minor": 5
}
